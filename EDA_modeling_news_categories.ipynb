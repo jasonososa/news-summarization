{
 "cells": [
  {
   "cell_type": "code",
   "execution_count": null,
   "metadata": {
    "colab": {
     "base_uri": "https://localhost:8080/",
     "height": 141
    },
    "colab_type": "code",
    "id": "FGMDarPEi2ba",
    "outputId": "2e31ad81-4998-426b-8fff-5af5726ef96b"
   },
   "outputs": [
    {
     "name": "stdout",
     "output_type": "stream",
     "text": [
      "[nltk_data] Downloading package stopwords to /root/nltk_data...\n",
      "[nltk_data]   Unzipping corpora/stopwords.zip.\n",
      "[nltk_data] Downloading package punkt to /root/nltk_data...\n",
      "[nltk_data]   Unzipping tokenizers/punkt.zip.\n"
     ]
    },
    {
     "name": "stderr",
     "output_type": "stream",
     "text": [
      "/usr/local/lib/python3.6/dist-packages/statsmodels/tools/_testing.py:19: FutureWarning: pandas.util.testing is deprecated. Use the functions in the public API at pandas.testing instead.\n",
      "  import pandas.util.testing as tm\n"
     ]
    }
   ],
   "source": [
    "from collections import Counter\n",
    "import gensim\n",
    "from gensim.models import Word2Vec\n",
    "from gensim.models import Phrases\n",
    "import nltk\n",
    "from nltk.tokenize import word_tokenize\n",
    "from nltk.util import ngrams\n",
    "from nltk.corpus import stopwords\n",
    "from nltk.stem.porter import PorterStemmer\n",
    "nltk.download('stopwords')\n",
    "nltk.download('punkt')\n",
    "import matplotlib.pyplot as plt\n",
    "import pandas as pd\n",
    "import seaborn as sns\n",
    "from sklearn.model_selection import GridSearchCV\n",
    "from sklearn.decomposition import PCA\n",
    "from sklearn.feature_extraction.text import TfidfVectorizer\n",
    "from sklearn import model_selection, preprocessing, linear_model, naive_bayes, metrics\n",
    "import spacy\n",
    "import string\n",
    "\n",
    "%matplotlib inline"
   ]
  },
  {
   "cell_type": "code",
   "execution_count": null,
   "metadata": {
    "colab": {},
    "colab_type": "code",
    "id": "CA1dV6-VidIs"
   },
   "outputs": [],
   "source": [
    "# loading data\n",
    "cat_data = pd.read_json(\n",
    "    './News_Category_Dataset_v2.json',\n",
    "    lines=True\n",
    ")"
   ]
  },
  {
   "cell_type": "code",
   "execution_count": null,
   "metadata": {
    "colab": {
     "base_uri": "https://localhost:8080/",
     "height": 773
    },
    "colab_type": "code",
    "id": "t_SifhJujMTY",
    "outputId": "f47b4f34-3ef1-4137-8b02-531ca3354531"
   },
   "outputs": [
    {
     "data": {
      "text/plain": [
       "category\n",
       "ARTS               1509\n",
       "ARTS & CULTURE     1339\n",
       "BLACK VOICES       4528\n",
       "BUSINESS           5937\n",
       "COLLEGE            1144\n",
       "COMEDY             5175\n",
       "CRIME              3405\n",
       "CULTURE & ARTS     1030\n",
       "DIVORCE            3426\n",
       "EDUCATION          1004\n",
       "ENTERTAINMENT     16058\n",
       "ENVIRONMENT        1323\n",
       "FIFTY              1401\n",
       "FOOD & DRINK       6226\n",
       "GOOD NEWS          1398\n",
       "GREEN              2622\n",
       "HEALTHY LIVING     6694\n",
       "HOME & LIVING      4195\n",
       "IMPACT             3459\n",
       "LATINO VOICES      1129\n",
       "MEDIA              2815\n",
       "MONEY              1707\n",
       "PARENTING          8677\n",
       "PARENTS            3955\n",
       "POLITICS          32739\n",
       "QUEER VOICES       6314\n",
       "RELIGION           2556\n",
       "SCIENCE            2178\n",
       "SPORTS             4884\n",
       "STYLE              2254\n",
       "STYLE & BEAUTY     9649\n",
       "TASTE              2096\n",
       "TECH               2082\n",
       "THE WORLDPOST      3664\n",
       "TRAVEL             9887\n",
       "WEDDINGS           3651\n",
       "WEIRD NEWS         2670\n",
       "WELLNESS          17827\n",
       "WOMEN              3490\n",
       "WORLD NEWS         2177\n",
       "WORLDPOST          2579\n",
       "Name: headline, dtype: int64"
      ]
     },
     "execution_count": 4,
     "metadata": {
      "tags": []
     },
     "output_type": "execute_result"
    }
   ],
   "source": [
    "# For this exercise I want to predict the category, lets see how many articles are in each category\n",
    "cat_data.groupby(['category']).count()['headline']"
   ]
  },
  {
   "cell_type": "code",
   "execution_count": null,
   "metadata": {
    "colab": {
     "base_uri": "https://localhost:8080/",
     "height": 34
    },
    "colab_type": "code",
    "id": "eUnBn3UW_Wco",
    "outputId": "d540d705-e0cc-4f3a-81d5-a355eb30f056"
   },
   "outputs": [
    {
     "name": "stdout",
     "output_type": "stream",
     "text": [
      "Total number of categories is: 41\n"
     ]
    }
   ],
   "source": [
    "print('Total number of categories is:', len(cat_data.category.unique()))"
   ]
  },
  {
   "cell_type": "markdown",
   "metadata": {
    "colab_type": "text",
    "id": "mu8yZedM_qaj"
   },
   "source": [
    "### There are 41 different categories and the number of articles per category is very different. Also, there are way too many categories for the number of samples per category. This means that predicting all this number of categories/classes wil be too hard. Lets try to decrease the number of categories by grouping similar categories.\n",
    "\n",
    "### As a first iteration, I will use my own guesses to group these articles."
   ]
  },
  {
   "cell_type": "code",
   "execution_count": null,
   "metadata": {
    "colab": {},
    "colab_type": "code",
    "id": "TxB-Wy7TjZf2"
   },
   "outputs": [],
   "source": [
    "def consolidate_cat(df, col_name, pattern_to_repl_list, replacement):\n",
    "    df_to_clean = df\n",
    "    series = df[col_name]\n",
    "    \n",
    "    for pattern in pattern_to_repl_list:\n",
    "        replaced_series = series.str.replace(pattern, replacement)\n",
    "        series = replaced_series\n",
    "    df_to_clean[col_name] = series \n",
    "    return df_to_clean[['category', 'headline']]"
   ]
  },
  {
   "cell_type": "code",
   "execution_count": null,
   "metadata": {
    "colab": {},
    "colab_type": "code",
    "id": "M0zGMuERjM38"
   },
   "outputs": [],
   "source": [
    "consolidate_labels = consolidate_cat(cat_data, 'category', ['ARTS & CULTURE', 'CULTURE & ARTS', 'MEDIA', 'COMEDY', 'ARTS'], 'ENTERTAINMENT')\n",
    "consolidate_labels = consolidate_cat(cat_data, 'category', ['BUSINESS', 'EDUCATION', 'COLLEGE'], 'MONEY')\n",
    "consolidate_labels = consolidate_cat(cat_data, 'category', ['BLACK VOICES', 'LATINO VOICES', 'QUEER VOICES'], 'DIVERSITY_VOICES')\n",
    "consolidate_labels = consolidate_cat(cat_data, 'category', ['HEALTHY LIVING', 'HOME & LIVING ', 'TRAVEL', 'GOOD NEWS', 'HOME & LIVING', 'FOOD & DRINK'], 'HEALTHY_LIFESTYLES')\n",
    "consolidate_labels = consolidate_cat(cat_data, 'category', ['PARENTS'], 'PARENTING')\n",
    "consolidate_labels = consolidate_cat(cat_data, 'category', ['STYLE & BEAUTY', 'TASTE','WEDDINGS'], 'STYLE')\n",
    "consolidate_labels = consolidate_cat(cat_data, 'category', ['THE WORLDPOST', 'WORLDPOST', 'WORLD NEWS'], 'WORLD_NEWS')\n",
    "consolidate_labels = consolidate_cat(cat_data, 'category', ['FIFTY'], 'WELLNESS')\n",
    "consolidate_labels = consolidate_cat(cat_data, 'category', ['CRIME', 'ENVIRONMENT', 'GREEN', 'IMPACT', 'WEIRD NEWS'], 'GENERAL')\n",
    "consolidate_labels = consolidate_cat(cat_data, 'category', ['DIVORCE', 'SCIENCE', 'RELIGION', 'SPORTS', 'TECH', 'WOMEN'], 'SPECIAL_SECTIONS')"
   ]
  },
  {
   "cell_type": "code",
   "execution_count": null,
   "metadata": {
    "colab": {
     "base_uri": "https://localhost:8080/",
     "height": 243
    },
    "colab_type": "code",
    "id": "WygE_p3yjM-H",
    "outputId": "366267fb-b805-4b22-ca5c-41e3031591fc"
   },
   "outputs": [
    {
     "data": {
      "text/plain": [
       "category\n",
       "DIVERSITY_VOICES      11971\n",
       "ENTERTAINMENT         27926\n",
       "GENERAL               13479\n",
       "HEALTHY_LIFESTYLES    28400\n",
       "MONEY                  9792\n",
       "PARENTING             12632\n",
       "POLITICS              32739\n",
       "SPECIAL_SECTIONS      18616\n",
       "STYLE                 17650\n",
       "WELLNESS              19228\n",
       "WORLD_NEWS             8420\n",
       "Name: headline, dtype: int64"
      ]
     },
     "execution_count": 6,
     "metadata": {
      "tags": []
     },
     "output_type": "execute_result"
    }
   ],
   "source": [
    "# Lets see how are the articles distributed in the new categories\n",
    "consolidate_labels.groupby(['category'])['headline'].count()"
   ]
  },
  {
   "cell_type": "markdown",
   "metadata": {
    "colab_type": "text",
    "id": "_H8G26rxBPXF"
   },
   "source": [
    "### Data is definitely not perfectly balanced, but it is not too bad. Lets move forward with this dataset."
   ]
  },
  {
   "cell_type": "markdown",
   "metadata": {
    "colab_type": "text",
    "id": "5MgCexit6X1I"
   },
   "source": [
    "### Lets take a look at the most common words for a couple of the categories.\n",
    "#### Lets take politics and Entertainment"
   ]
  },
  {
   "cell_type": "code",
   "execution_count": null,
   "metadata": {
    "colab": {},
    "colab_type": "code",
    "id": "_HBxbYdJ9gK0"
   },
   "outputs": [],
   "source": [
    "def headline_corpus(df, filter_condition):\n",
    "  \"\"\"\n",
    "  This function joins all headlines for a single given category into a single corpus.\n",
    "  Corpus is only formed of alphabetic words that are not consider stop words and are larger than 3 letters.\n",
    "  \"\"\"\n",
    "  table = str.maketrans('', '', string.punctuation)\n",
    "  stop_words = set(stopwords.words('english'))\n",
    "  \n",
    "  filter_condition_df = df[df['category'] == filter_condition]\n",
    "  filter_condition_list = ' '.join(filter_condition_df['headline'].to_list())\n",
    "\n",
    "  filter_condition_tokens = word_tokenize(filter_condition_list)\n",
    "  filter_condition_punc_stripped = [word.translate(table).lower() for word in filter_condition_tokens]\n",
    "  filter_condition_alphabet_words = [word for word in filter_condition_punc_stripped if word.isalpha() and not word in stop_words and len(word) > 3]\n",
    "\n",
    "  return filter_condition_alphabet_words"
   ]
  },
  {
   "cell_type": "code",
   "execution_count": null,
   "metadata": {
    "colab": {},
    "colab_type": "code",
    "id": "gaEbXMRu6XMB"
   },
   "outputs": [],
   "source": [
    "politics_corpus = headline_corpus(consolidate_labels, 'POLITICS')\n",
    "entertainment_corpus = headline_corpus(consolidate_labels, 'ENTERTAINMENT')"
   ]
  },
  {
   "cell_type": "code",
   "execution_count": null,
   "metadata": {
    "colab": {
     "base_uri": "https://localhost:8080/",
     "height": 193
    },
    "colab_type": "code",
    "id": "SHREt2LNRuSJ",
    "outputId": "df506a77-9872-4f67-f838-2dbf03b71d27"
   },
   "outputs": [
    {
     "data": {
      "text/plain": [
       "['smith',\n",
       " 'joins',\n",
       " 'diplo',\n",
       " 'nicky',\n",
       " 'world',\n",
       " 'official',\n",
       " 'song',\n",
       " 'hugh',\n",
       " 'grant',\n",
       " 'marries']"
      ]
     },
     "execution_count": 26,
     "metadata": {
      "tags": []
     },
     "output_type": "execute_result"
    }
   ],
   "source": [
    "entertainment_corpus[:10]"
   ]
  },
  {
   "cell_type": "code",
   "execution_count": null,
   "metadata": {
    "colab": {},
    "colab_type": "code",
    "id": "TWvS-yTU7C-j"
   },
   "outputs": [],
   "source": [
    "def term_counter(corpus):\n",
    "  counter_df = pd.DataFrame.from_dict(\n",
    "      Counter(corpus), orient='index'\n",
    "  ).reset_index().rename(columns={'index':'terms', 0:'counts'})\n",
    "  return counter_df"
   ]
  },
  {
   "cell_type": "code",
   "execution_count": null,
   "metadata": {
    "colab": {},
    "colab_type": "code",
    "id": "ajmxhtCeEQj_"
   },
   "outputs": [],
   "source": [
    "counter_politics_terms = term_counter(politics_corpus)\n",
    "counter_entertainment_terms = term_counter(entertainment_corpus)"
   ]
  },
  {
   "cell_type": "code",
   "execution_count": null,
   "metadata": {
    "colab": {
     "base_uri": "https://localhost:8080/",
     "height": 199
    },
    "colab_type": "code",
    "id": "O3PleyAxZ8ij",
    "outputId": "06daecab-95f7-44a4-8cfd-96ae29c00028"
   },
   "outputs": [
    {
     "data": {
      "text/html": [
       "<div>\n",
       "<style scoped>\n",
       "    .dataframe tbody tr th:only-of-type {\n",
       "        vertical-align: middle;\n",
       "    }\n",
       "\n",
       "    .dataframe tbody tr th {\n",
       "        vertical-align: top;\n",
       "    }\n",
       "\n",
       "    .dataframe thead th {\n",
       "        text-align: right;\n",
       "    }\n",
       "</style>\n",
       "<table border=\"1\" class=\"dataframe\">\n",
       "  <thead>\n",
       "    <tr style=\"text-align: right;\">\n",
       "      <th></th>\n",
       "      <th>terms</th>\n",
       "      <th>counts</th>\n",
       "    </tr>\n",
       "  </thead>\n",
       "  <tbody>\n",
       "    <tr>\n",
       "      <th>0</th>\n",
       "      <td>trump</td>\n",
       "      <td>8828</td>\n",
       "    </tr>\n",
       "    <tr>\n",
       "      <th>1</th>\n",
       "      <td>crackdown</td>\n",
       "      <td>50</td>\n",
       "    </tr>\n",
       "    <tr>\n",
       "      <th>2</th>\n",
       "      <td>immigrant</td>\n",
       "      <td>88</td>\n",
       "    </tr>\n",
       "    <tr>\n",
       "      <th>3</th>\n",
       "      <td>parents</td>\n",
       "      <td>52</td>\n",
       "    </tr>\n",
       "    <tr>\n",
       "      <th>4</th>\n",
       "      <td>puts</td>\n",
       "      <td>49</td>\n",
       "    </tr>\n",
       "  </tbody>\n",
       "</table>\n",
       "</div>"
      ],
      "text/plain": [
       "       terms  counts\n",
       "0      trump    8828\n",
       "1  crackdown      50\n",
       "2  immigrant      88\n",
       "3    parents      52\n",
       "4       puts      49"
      ]
     },
     "execution_count": 32,
     "metadata": {
      "tags": []
     },
     "output_type": "execute_result"
    }
   ],
   "source": [
    "counter_politics_terms.head()"
   ]
  },
  {
   "cell_type": "code",
   "execution_count": null,
   "metadata": {
    "colab": {},
    "colab_type": "code",
    "id": "9HAdtN1QPzpu"
   },
   "outputs": [],
   "source": [
    "def sns_barplot(x, y, data, title, x_label, y_label):\n",
    "  fig, ax = plt.subplots(figsize=(12, 8))\n",
    "  plot = sns.barplot(x=x, y=y, data=data, color='gray', ax=ax, edgecolor='k')\n",
    "  plt.title(title, fontsize=28)\n",
    "  plt.xlabel(x_label, fontsize=16)\n",
    "  plt.ylabel(y_label, fontsize=16)\n",
    "  plt.xticks(fontsize=12, rotation=45, ha='right')\n",
    "  plt.yticks(fontsize=12)\n",
    "  plt.tight_layout()\n",
    "  return plot"
   ]
  },
  {
   "cell_type": "code",
   "execution_count": null,
   "metadata": {
    "colab": {
     "base_uri": "https://localhost:8080/",
     "height": 602
    },
    "colab_type": "code",
    "id": "7862Y__MdkuD",
    "outputId": "4220b133-9f49-4aa3-9229-12dd26d7fb58"
   },
   "outputs": [
    {
     "data": {
      "text/plain": [
       "<matplotlib.axes._subplots.AxesSubplot at 0x7f86b782b208>"
      ]
     },
     "execution_count": 35,
     "metadata": {
      "tags": []
     },
     "output_type": "execute_result"
    },
    {
     "data": {
      "image/png": "[encoded data removed]",
      "text/plain": [
       "<Figure size 864x576 with 1 Axes>"
      ]
     },
     "metadata": {
      "needs_background": "light",
      "tags": []
     },
     "output_type": "display_data"
    }
   ],
   "source": [
    "sns_barplot(\n",
    "    x='terms',\n",
    "    y='counts', \n",
    "    data = counter_politics_terms.nlargest(10, columns='counts'),\n",
    "    title= 'Top 10 Token Counts for Politics\\nArticles Headlines',\n",
    "    x_label='Tokens',\n",
    "    y_label='Counts'\n",
    ")"
   ]
  },
  {
   "cell_type": "code",
   "execution_count": null,
   "metadata": {
    "colab": {
     "base_uri": "https://localhost:8080/",
     "height": 602
    },
    "colab_type": "code",
    "id": "mkG6PZK5ceRO",
    "outputId": "19a29ecf-4c21-4e79-d486-754390e4dd95"
   },
   "outputs": [
    {
     "data": {
      "text/plain": [
       "<matplotlib.axes._subplots.AxesSubplot at 0x7f86b6caaa90>"
      ]
     },
     "execution_count": 36,
     "metadata": {
      "tags": []
     },
     "output_type": "execute_result"
    },
    {
     "data": {
      "image/png": "[encoded data removed]",
      "text/plain": [
       "<Figure size 864x576 with 1 Axes>"
      ]
     },
     "metadata": {
      "needs_background": "light",
      "tags": []
     },
     "output_type": "display_data"
    }
   ],
   "source": [
    "sns_barplot(\n",
    "    x='terms',\n",
    "    y='counts', \n",
    "    data = counter_entertainment_terms.nlargest(10, columns='counts'),\n",
    "    title= 'Top 10 Token Counts for Entertainment\\nArticles Headlines',\n",
    "    x_label='Tokens',\n",
    "    y_label='Counts'\n",
    ")"
   ]
  },
  {
   "cell_type": "markdown",
   "metadata": {},
   "source": [
    "### This is very interesting that the 2 most dominant words for politics and entertainment articles are Trump and Donald.\n",
    "### But it make sense since Donald Trump is involved in polotics and entertainment."
   ]
  },
  {
   "cell_type": "code",
   "execution_count": null,
   "metadata": {
    "colab": {},
    "colab_type": "code",
    "id": "jBvHgTKSVseU"
   },
   "outputs": [],
   "source": [
    "# For speeding up model iteration during dev, I will only use 10% of the data\n",
    "sub_sample_data = consolidate_labels.sample(frac=0.1, axis='index')"
   ]
  },
  {
   "cell_type": "code",
   "execution_count": null,
   "metadata": {
    "colab": {
     "base_uri": "https://localhost:8080/",
     "height": 245
    },
    "colab_type": "code",
    "id": "CjDJsJWUWiDO",
    "outputId": "477e5ec8-1aeb-4c5d-cb72-00d1681c4212"
   },
   "outputs": [
    {
     "data": {
      "text/plain": [
       "category\n",
       "DIVERSITY_VOICES      11971\n",
       "ENTERTAINMENT         27926\n",
       "GENERAL               13479\n",
       "HEALTHY_LIFESTYLES    28400\n",
       "MONEY                  9792\n",
       "PARENTING             12632\n",
       "POLITICS              32739\n",
       "SPECIAL_SECTIONS      18616\n",
       "STYLE                 17650\n",
       "WELLNESS              19228\n",
       "WORLD_NEWS             8420\n",
       "Name: headline, dtype: int64"
      ]
     },
     "execution_count": 40,
     "metadata": {
      "tags": []
     },
     "output_type": "execute_result"
    }
   ],
   "source": [
    "# Lets check that the ratios of labels are similar between this subsample dataset and the whole dataset\n",
    "consolidate_labels.groupby(['category'])['headline'].count()"
   ]
  },
  {
   "cell_type": "code",
   "execution_count": null,
   "metadata": {
    "colab": {
     "base_uri": "https://localhost:8080/",
     "height": 245
    },
    "colab_type": "code",
    "id": "fYtfP87GWTPD",
    "outputId": "7eff0fe8-8d6e-4e65-b6b1-a6edf0260d36"
   },
   "outputs": [
    {
     "data": {
      "text/plain": [
       "category\n",
       "DIVERSITY_VOICES      1189\n",
       "ENTERTAINMENT         2736\n",
       "GENERAL               1344\n",
       "HEALTHY_LIFESTYLES    2889\n",
       "MONEY                  980\n",
       "PARENTING             1283\n",
       "POLITICS              3269\n",
       "SPECIAL_SECTIONS      1804\n",
       "STYLE                 1823\n",
       "WELLNESS              1945\n",
       "WORLD_NEWS             823\n",
       "Name: headline, dtype: int64"
      ]
     },
     "execution_count": 41,
     "metadata": {
      "tags": []
     },
     "output_type": "execute_result"
    }
   ],
   "source": [
    "sub_sample_data.groupby(['category'])['headline'].count()"
   ]
  },
  {
   "cell_type": "markdown",
   "metadata": {
    "colab_type": "text",
    "id": "vIQlLjDLMJgo"
   },
   "source": [
    "### The data was not sample unequally as the ratios for each of the classes are similar between the whole and the subsample dataset. \n",
    "### This mean we did not introduce bias duriing sample which is very important.\n",
    "### Lets move on with this."
   ]
  },
  {
   "cell_type": "code",
   "execution_count": null,
   "metadata": {
    "colab": {},
    "colab_type": "code",
    "id": "0cxxmXIgjNI-"
   },
   "outputs": [],
   "source": [
    "def clean_stem_text(df_col_to_clean):\n",
    "  \"\"\"\n",
    "  This function will process the raw text headlines and return headlines in \n",
    "  lowercase, without punctuation, with stemmed only of words that are \n",
    "  larger than 3 characters\n",
    "  \"\"\"\n",
    "  table = str.maketrans('', '', string.punctuation)\n",
    "  stop_words = set(stopwords.words('english'))\n",
    "  porter = PorterStemmer()\n",
    "  stemmed_tokens = []\n",
    "\n",
    "  for row in df_col_to_clean:\n",
    "      tokens = word_tokenize(row)\n",
    "      punc_stripped = [word.translate(table).lower() for word in tokens]\n",
    "      alphabet_words = [word for word in punc_stripped if word.isalpha() and not word in stop_words and len(word) > 3]\n",
    "      stemmed = [porter.stem(word) for word in alphabet_words]\n",
    "      stemmed_tokens.append(stemmed)\n",
    "  return [' '.join(stemmed_list) for stemmed_list in stemmed_tokens]"
   ]
  },
  {
   "cell_type": "code",
   "execution_count": null,
   "metadata": {
    "colab": {},
    "colab_type": "code",
    "id": "MtZseGbUjNOf"
   },
   "outputs": [],
   "source": [
    "stemmed_sentences = clean_stem_text(sub_sample_data['headline'])"
   ]
  },
  {
   "cell_type": "code",
   "execution_count": null,
   "metadata": {
    "colab": {},
    "colab_type": "code",
    "id": "hDNTeg8ojNSy"
   },
   "outputs": [],
   "source": [
    "def split_train_test(X=None, y=None, random_state=6059, stratify=None, test_size=0.15):\n",
    "  X_train, X_test, y_train, y_test = model_selection.train_test_split(\n",
    "      X,\n",
    "      y,\n",
    "      stratify=y,\n",
    "      random_state=random_state,\n",
    "      test_size=test_size\n",
    "  )\n",
    "  return X_train, X_test, y_train, y_test"
   ]
  },
  {
   "cell_type": "code",
   "execution_count": null,
   "metadata": {
    "colab": {},
    "colab_type": "code",
    "id": "MJAB1V53jNXQ"
   },
   "outputs": [],
   "source": [
    "X_train, X_test, y_train, y_test = split_train_test(\n",
    "    X=stemmed_sentences,\n",
    "    y=sub_sample_data['category'],\n",
    "    random_state=6059,\n",
    "    stratify=sub_sample_data['category'],\n",
    "    test_size=0.15\n",
    ")"
   ]
  },
  {
   "cell_type": "code",
   "execution_count": null,
   "metadata": {
    "colab": {},
    "colab_type": "code",
    "id": "8dapCO97jNZ_"
   },
   "outputs": [],
   "source": [
    "def tfidf_ngram(X_train, X_test, analyzer, ngram_range):\n",
    "  \"\"\"\n",
    "  This function leverages TFidf vectorizer to output tf-idf ngrams for model training\n",
    "  \"\"\"\n",
    "  tfidf_vect_ngram = TfidfVectorizer(analyzer=analyzer, ngram_range=ngram_range)\n",
    "  tfidf_vect_ngram.fit(X_train)\n",
    "  X_train_tfidf_ngram =  tfidf_vect_ngram.transform(X_train)\n",
    "  X_test_tfidf_ngram =  tfidf_vect_ngram.transform(X_test)\n",
    "  return X_train_tfidf_ngram, X_test_tfidf_ngram"
   ]
  },
  {
   "cell_type": "code",
   "execution_count": null,
   "metadata": {
    "colab": {},
    "colab_type": "code",
    "id": "5VMsRVYfjNdj"
   },
   "outputs": [],
   "source": [
    "# Lets get tf-idf bigrams to train a headline classifier\n",
    "X_train_tfidf_ngram_word, X_test_tfidf_ngram_word = tfidf_ngram(X_train, X_test, analyzer='word', ngram_range=(2,2))"
   ]
  },
  {
   "cell_type": "code",
   "execution_count": null,
   "metadata": {
    "colab": {},
    "colab_type": "code",
    "id": "tyMZvPLHjNjm"
   },
   "outputs": [],
   "source": [
    "def train_model(clf, X_train, y_train, X_test, y_test, parameters_dict):\n",
    "  clf_grid = GridSearchCV(estimator=clf, param_grid=parameters_dict, cv=3, scoring='f1_weighted', n_jobs=-1)\n",
    "  clf_grid.fit(X_train, y_train)\n",
    "  predictions = clf_grid.predict(X_test)\n",
    "\n",
    "  prec_weighted = metrics.precision_score(predictions, y_test, average='weighted')\n",
    "  recall_weighted = metrics.recall_score(predictions, y_test, average='weighted')\n",
    "  f1_weighted = metrics.f1_score(predictions, y_test, average='weighted')\n",
    "  \n",
    "  return prec_weighted, recall_weighted, f1_weighted, clf_grid.best_params_"
   ]
  },
  {
   "cell_type": "code",
   "execution_count": null,
   "metadata": {},
   "outputs": [],
   "source": []
  },
  {
   "cell_type": "code",
   "execution_count": null,
   "metadata": {
    "colab": {
     "base_uri": "https://localhost:8080/",
     "height": 85
    },
    "colab_type": "code",
    "id": "odn7arO0jNn3",
    "outputId": "4607156f-1e8f-43eb-9f9c-a5fa7be0833f"
   },
   "outputs": [
    {
     "name": "stdout",
     "output_type": "stream",
     "text": [
      "NB, bigram word level vectors, precision weighted:  0.6988474107551638\n",
      "NB, bigram word level vectors, recall weighted:  0.3385330235645536\n",
      "NB, bigram word level vectors, f1 score weighted:  0.37743069865105405\n",
      "Best model parameters: {'alpha': 0.5}\n"
     ]
    }
   ],
   "source": [
    "prec_weighted, recall_weighted, f1_weighted, best_params = train_model(\n",
    "    naive_bayes.MultinomialNB(),\n",
    "    X_train_tfidf_ngram_word,\n",
    "    y_train,\n",
    "    X_test_tfidf_ngram_word,\n",
    "    y_test,\n",
    "    dict(alpha=[0.5, 1])\n",
    ")\n",
    "\n",
    "print(\"NB, bigram word level vectors, precision weighted: \", prec_weighted)\n",
    "print(\"NB, bigram word level vectors, recall weighted: \", recall_weighted)\n",
    "print(\"NB, bigram word level vectors, f1 score weighted: \", f1_weighted)\n",
    "print(\"Best model parameters:\", best_params)"
   ]
  },
  {
   "cell_type": "code",
   "execution_count": null,
   "metadata": {
    "colab": {
     "base_uri": "https://localhost:8080/",
     "height": 90
    },
    "colab_type": "code",
    "id": "diCKSIH0jNmn",
    "outputId": "0840f7a7-cf90-4d21-95af-23fbbbf8ca81"
   },
   "outputs": [
    {
     "name": "stdout",
     "output_type": "stream",
     "text": [
      "LR, bigram word level vectors, precision weighted:  0.6895729793031814\n",
      "LR, bigram word level vectors, recall weighted:  0.3521407235313641\n",
      "LR, bigram word level vectors, f1 score weighted:  0.38628316405472635\n",
      "Best model parameters: {'C': 1, 'l1_ratio': 0, 'penalty': 'elasticnet'}\n"
     ]
    }
   ],
   "source": [
    "prec_weighted, recall_weighted, f1_weighted, best_params = train_model(\n",
    "    linear_model.LogisticRegression(solver='saga'),\n",
    "    X_train_tfidf_ngram_word,\n",
    "    y_train,\n",
    "    X_test_tfidf_ngram_word,\n",
    "    y_test,\n",
    "    dict(C=[0.1, 1], penalty=['elasticnet'], l1_ratio=[0, 0.5])\n",
    ")\n",
    "\n",
    "print(\"LR, bigram word level vectors, precision weighted: \", prec_weighted)\n",
    "print(\"LR, bigram word level vectors, recall weighted: \", recall_weighted)\n",
    "print(\"LR, bigram word level vectors, f1 score weighted: \", f1_weighted)\n",
    "print(\"Best model parameters:\", best_params)"
   ]
  },
  {
   "cell_type": "code",
   "execution_count": null,
   "metadata": {
    "colab": {
     "base_uri": "https://localhost:8080/",
     "height": 90
    },
    "colab_type": "code",
    "id": "mo3369XWsiD4",
    "outputId": "5cbe27ad-9ad4-458a-ad51-2c11b7ffc2ef"
   },
   "outputs": [
    {
     "name": "stdout",
     "output_type": "stream",
     "text": [
      "RandomForest, bigram word level vectors, precision weighted:  0.5995081758647327\n",
      "RandomForest, bigram word level vectors, recall weighted:  0.31928310653833386\n",
      "RandomForest, bigram word level vectors, f1 score weighted:  0.29776842092209826\n",
      "Best model parameters: {'min_samples_split': 3}\n"
     ]
    }
   ],
   "source": [
    "prec_weighted, recall_weighted, f1_weighted, best_params = train_model(\n",
    "    ensemble.RandomForestClassifier(n_jobs=-1),\n",
    "    X_train_tfidf_ngram_word,\n",
    "    y_train,\n",
    "    X_test_tfidf_ngram_word,\n",
    "    y_test,\n",
    "    dict(min_samples_split = [3, 5])\n",
    ")\n",
    "\n",
    "print(\"RandomForest, bigram word level vectors, precision weighted: \", prec_weighted)\n",
    "print(\"RandomForest, bigram word level vectors, recall weighted: \", recall_weighted)\n",
    "print(\"RandomForest, bigram word level vectors, f1 score weighted: \", f1_weighted)\n",
    "print(\"Best model parameters:\", best_params)"
   ]
  },
  {
   "cell_type": "markdown",
   "metadata": {},
   "source": [
    "### This is very interesting. All three models f1 score is similar.\n",
    "### If I was going to implement this model as it is, I'd select Naive Bayes since training time is very short, predictions are fast, and the model is very easy to implement."
   ]
  },
  {
   "cell_type": "markdown",
   "metadata": {
    "colab_type": "text",
    "id": "FR4eCfEzmLLH"
   },
   "source": [
    "# Lets try to use a better representation of text for model training.\n",
    "# Lets get a spaCy embedding"
   ]
  },
  {
   "cell_type": "code",
   "execution_count": null,
   "metadata": {
    "colab": {
     "base_uri": "https://localhost:8080/",
     "height": 54
    },
    "colab_type": "code",
    "id": "HTjqyrFMmw8N",
    "outputId": "df697844-9b40-4513-bdcf-98acf6c4d7e2"
   },
   "outputs": [
    {
     "name": "stdout",
     "output_type": "stream",
     "text": [
      "\u001b[38;5;2m✔ Download and installation successful\u001b[0m\n",
      "You can now load the model via spacy.load('en_core_web_sm')\n"
     ]
    }
   ],
   "source": [
    "# load a small english pretrained model\n",
    "import spacy.cli\n",
    "spacy.cli.download(\"en_core_web_sm\")"
   ]
  },
  {
   "cell_type": "code",
   "execution_count": null,
   "metadata": {
    "colab": {},
    "colab_type": "code",
    "id": "hB6sVWvxpaKR"
   },
   "outputs": [],
   "source": [
    "def spacy_embedding_sm(text_to_embed_df):\n",
    "  nlp_model = spacy.load('en_core_web_sm')\n",
    "  embedding_list = []\n",
    "\n",
    "  for row in text_to_embed_df:\n",
    "    trained_model = nlp_model(row)\n",
    "    embedding_list.append(trained_model.vector)\n",
    "  \n",
    "  return embedding_list"
   ]
  },
  {
   "cell_type": "code",
   "execution_count": null,
   "metadata": {
    "colab": {},
    "colab_type": "code",
    "id": "0f95LriutkGb"
   },
   "outputs": [],
   "source": [
    "embedding_vector = spacy_embedding_sm(sub_sample_data.headline)"
   ]
  },
  {
   "cell_type": "code",
   "execution_count": null,
   "metadata": {
    "colab": {},
    "colab_type": "code",
    "id": "qu53lUdgvpYH"
   },
   "outputs": [],
   "source": [
    "# Lets create a dataframe with the vectors and labels\n",
    "embeddings_sm = pd.DataFrame(\n",
    "    {\n",
    "        'headline_embedding': embedding_vector,\n",
    "        'category_label': sub_sample_data['category']\n",
    "    }\n",
    ")"
   ]
  },
  {
   "cell_type": "code",
   "execution_count": null,
   "metadata": {
    "colab": {},
    "colab_type": "code",
    "id": "x8kVWZpkH-hG"
   },
   "outputs": [],
   "source": [
    "# Lets transform the embedding vector into columns\n",
    "embedding_to_cols = pd.DataFrame(embeddings_sm.headline_embedding.to_list())"
   ]
  },
  {
   "cell_type": "code",
   "execution_count": null,
   "metadata": {
    "colab": {},
    "colab_type": "code",
    "id": "6P_yta7Sgqkd"
   },
   "outputs": [],
   "source": [
    "embedding_to_cols['category_label'] = cat_headline['category']"
   ]
  },
  {
   "cell_type": "code",
   "execution_count": null,
   "metadata": {
    "colab": {
     "base_uri": "https://localhost:8080/",
     "height": 247
    },
    "colab_type": "code",
    "id": "pwh8RmEkIOcN",
    "outputId": "e65b8bf3-c11c-43d6-9e80-8bbf2007dec5"
   },
   "outputs": [
    {
     "data": {
      "text/html": [
       "<div>\n",
       "<style scoped>\n",
       "    .dataframe tbody tr th:only-of-type {\n",
       "        vertical-align: middle;\n",
       "    }\n",
       "\n",
       "    .dataframe tbody tr th {\n",
       "        vertical-align: top;\n",
       "    }\n",
       "\n",
       "    .dataframe thead th {\n",
       "        text-align: right;\n",
       "    }\n",
       "</style>\n",
       "<table border=\"1\" class=\"dataframe\">\n",
       "  <thead>\n",
       "    <tr style=\"text-align: right;\">\n",
       "      <th></th>\n",
       "      <th>0</th>\n",
       "      <th>1</th>\n",
       "      <th>2</th>\n",
       "      <th>3</th>\n",
       "      <th>4</th>\n",
       "      <th>5</th>\n",
       "      <th>6</th>\n",
       "      <th>7</th>\n",
       "      <th>8</th>\n",
       "      <th>9</th>\n",
       "      <th>10</th>\n",
       "      <th>11</th>\n",
       "      <th>12</th>\n",
       "      <th>13</th>\n",
       "      <th>14</th>\n",
       "      <th>15</th>\n",
       "      <th>16</th>\n",
       "      <th>17</th>\n",
       "      <th>18</th>\n",
       "      <th>19</th>\n",
       "      <th>20</th>\n",
       "      <th>21</th>\n",
       "      <th>22</th>\n",
       "      <th>23</th>\n",
       "      <th>24</th>\n",
       "      <th>25</th>\n",
       "      <th>26</th>\n",
       "      <th>27</th>\n",
       "      <th>28</th>\n",
       "      <th>29</th>\n",
       "      <th>30</th>\n",
       "      <th>31</th>\n",
       "      <th>32</th>\n",
       "      <th>33</th>\n",
       "      <th>34</th>\n",
       "      <th>35</th>\n",
       "      <th>36</th>\n",
       "      <th>37</th>\n",
       "      <th>38</th>\n",
       "      <th>39</th>\n",
       "      <th>...</th>\n",
       "      <th>57</th>\n",
       "      <th>58</th>\n",
       "      <th>59</th>\n",
       "      <th>60</th>\n",
       "      <th>61</th>\n",
       "      <th>62</th>\n",
       "      <th>63</th>\n",
       "      <th>64</th>\n",
       "      <th>65</th>\n",
       "      <th>66</th>\n",
       "      <th>67</th>\n",
       "      <th>68</th>\n",
       "      <th>69</th>\n",
       "      <th>70</th>\n",
       "      <th>71</th>\n",
       "      <th>72</th>\n",
       "      <th>73</th>\n",
       "      <th>74</th>\n",
       "      <th>75</th>\n",
       "      <th>76</th>\n",
       "      <th>77</th>\n",
       "      <th>78</th>\n",
       "      <th>79</th>\n",
       "      <th>80</th>\n",
       "      <th>81</th>\n",
       "      <th>82</th>\n",
       "      <th>83</th>\n",
       "      <th>84</th>\n",
       "      <th>85</th>\n",
       "      <th>86</th>\n",
       "      <th>87</th>\n",
       "      <th>88</th>\n",
       "      <th>89</th>\n",
       "      <th>90</th>\n",
       "      <th>91</th>\n",
       "      <th>92</th>\n",
       "      <th>93</th>\n",
       "      <th>94</th>\n",
       "      <th>95</th>\n",
       "      <th>category_label</th>\n",
       "    </tr>\n",
       "  </thead>\n",
       "  <tbody>\n",
       "    <tr>\n",
       "      <th>0</th>\n",
       "      <td>1.140857</td>\n",
       "      <td>-2.609909</td>\n",
       "      <td>-2.195710</td>\n",
       "      <td>0.637792</td>\n",
       "      <td>-0.349784</td>\n",
       "      <td>2.360854</td>\n",
       "      <td>0.518369</td>\n",
       "      <td>1.117762</td>\n",
       "      <td>1.369088</td>\n",
       "      <td>1.304815</td>\n",
       "      <td>1.267790</td>\n",
       "      <td>0.625943</td>\n",
       "      <td>1.834827</td>\n",
       "      <td>0.982447</td>\n",
       "      <td>-1.591405</td>\n",
       "      <td>0.115479</td>\n",
       "      <td>-0.466000</td>\n",
       "      <td>0.153633</td>\n",
       "      <td>-1.074231</td>\n",
       "      <td>-1.115513</td>\n",
       "      <td>0.619103</td>\n",
       "      <td>-0.115635</td>\n",
       "      <td>-0.288565</td>\n",
       "      <td>-1.660075</td>\n",
       "      <td>-0.713260</td>\n",
       "      <td>-1.640297</td>\n",
       "      <td>1.306331</td>\n",
       "      <td>-2.478976</td>\n",
       "      <td>1.012866</td>\n",
       "      <td>-1.291123</td>\n",
       "      <td>0.016046</td>\n",
       "      <td>-0.510341</td>\n",
       "      <td>-0.104477</td>\n",
       "      <td>-1.701108</td>\n",
       "      <td>0.870750</td>\n",
       "      <td>-2.291791</td>\n",
       "      <td>3.328615</td>\n",
       "      <td>-1.926158</td>\n",
       "      <td>-2.482868</td>\n",
       "      <td>0.546651</td>\n",
       "      <td>...</td>\n",
       "      <td>2.610426</td>\n",
       "      <td>0.169582</td>\n",
       "      <td>0.243820</td>\n",
       "      <td>-1.027479</td>\n",
       "      <td>-0.752138</td>\n",
       "      <td>-0.196922</td>\n",
       "      <td>1.105837</td>\n",
       "      <td>3.503361</td>\n",
       "      <td>0.618732</td>\n",
       "      <td>0.946458</td>\n",
       "      <td>-0.269145</td>\n",
       "      <td>0.029390</td>\n",
       "      <td>1.162069</td>\n",
       "      <td>-1.992232</td>\n",
       "      <td>-0.488090</td>\n",
       "      <td>0.706329</td>\n",
       "      <td>0.541078</td>\n",
       "      <td>-1.770101</td>\n",
       "      <td>-0.725742</td>\n",
       "      <td>1.010039</td>\n",
       "      <td>-1.100719</td>\n",
       "      <td>-1.293287</td>\n",
       "      <td>0.170025</td>\n",
       "      <td>3.099810</td>\n",
       "      <td>-2.262345</td>\n",
       "      <td>-0.761190</td>\n",
       "      <td>-0.234380</td>\n",
       "      <td>-0.086826</td>\n",
       "      <td>1.388062</td>\n",
       "      <td>1.288979</td>\n",
       "      <td>-0.493908</td>\n",
       "      <td>-0.768045</td>\n",
       "      <td>0.941723</td>\n",
       "      <td>0.020388</td>\n",
       "      <td>1.108636</td>\n",
       "      <td>0.444351</td>\n",
       "      <td>1.084300</td>\n",
       "      <td>1.749161</td>\n",
       "      <td>1.611914</td>\n",
       "      <td>GENERAL</td>\n",
       "    </tr>\n",
       "    <tr>\n",
       "      <th>1</th>\n",
       "      <td>1.259468</td>\n",
       "      <td>-0.776940</td>\n",
       "      <td>-0.579592</td>\n",
       "      <td>1.044159</td>\n",
       "      <td>1.420292</td>\n",
       "      <td>3.122792</td>\n",
       "      <td>1.443577</td>\n",
       "      <td>0.053617</td>\n",
       "      <td>0.669814</td>\n",
       "      <td>1.259212</td>\n",
       "      <td>1.864674</td>\n",
       "      <td>-0.103573</td>\n",
       "      <td>-0.340544</td>\n",
       "      <td>-0.539682</td>\n",
       "      <td>-1.966192</td>\n",
       "      <td>-0.347496</td>\n",
       "      <td>0.585227</td>\n",
       "      <td>-0.160008</td>\n",
       "      <td>-0.656448</td>\n",
       "      <td>-0.867281</td>\n",
       "      <td>1.045728</td>\n",
       "      <td>-0.307711</td>\n",
       "      <td>0.491358</td>\n",
       "      <td>-1.121588</td>\n",
       "      <td>-0.826428</td>\n",
       "      <td>0.749607</td>\n",
       "      <td>0.510034</td>\n",
       "      <td>-1.023465</td>\n",
       "      <td>-0.160156</td>\n",
       "      <td>-1.527526</td>\n",
       "      <td>0.697861</td>\n",
       "      <td>0.139412</td>\n",
       "      <td>-0.179027</td>\n",
       "      <td>-0.593586</td>\n",
       "      <td>-0.118062</td>\n",
       "      <td>-2.056243</td>\n",
       "      <td>2.644691</td>\n",
       "      <td>-0.611299</td>\n",
       "      <td>-1.882790</td>\n",
       "      <td>-0.617266</td>\n",
       "      <td>...</td>\n",
       "      <td>1.392370</td>\n",
       "      <td>-0.011406</td>\n",
       "      <td>-0.794635</td>\n",
       "      <td>-0.915041</td>\n",
       "      <td>-0.879776</td>\n",
       "      <td>0.600128</td>\n",
       "      <td>-0.115955</td>\n",
       "      <td>1.005654</td>\n",
       "      <td>0.532454</td>\n",
       "      <td>0.087919</td>\n",
       "      <td>-1.637310</td>\n",
       "      <td>-0.060851</td>\n",
       "      <td>0.110745</td>\n",
       "      <td>-1.722876</td>\n",
       "      <td>0.064299</td>\n",
       "      <td>-0.130868</td>\n",
       "      <td>-0.758086</td>\n",
       "      <td>-0.560701</td>\n",
       "      <td>-0.147194</td>\n",
       "      <td>0.462606</td>\n",
       "      <td>-0.401264</td>\n",
       "      <td>-0.765977</td>\n",
       "      <td>0.010196</td>\n",
       "      <td>1.821644</td>\n",
       "      <td>-2.338571</td>\n",
       "      <td>-0.188468</td>\n",
       "      <td>0.279671</td>\n",
       "      <td>1.156868</td>\n",
       "      <td>1.672989</td>\n",
       "      <td>-0.317935</td>\n",
       "      <td>0.024258</td>\n",
       "      <td>0.473143</td>\n",
       "      <td>0.120411</td>\n",
       "      <td>0.329222</td>\n",
       "      <td>0.653812</td>\n",
       "      <td>-0.030926</td>\n",
       "      <td>0.144347</td>\n",
       "      <td>1.919709</td>\n",
       "      <td>0.605550</td>\n",
       "      <td>ENTERTAINMENT</td>\n",
       "    </tr>\n",
       "    <tr>\n",
       "      <th>2</th>\n",
       "      <td>0.176791</td>\n",
       "      <td>-1.853577</td>\n",
       "      <td>0.069344</td>\n",
       "      <td>1.109756</td>\n",
       "      <td>1.181195</td>\n",
       "      <td>2.263872</td>\n",
       "      <td>0.312616</td>\n",
       "      <td>-0.416202</td>\n",
       "      <td>2.045497</td>\n",
       "      <td>1.133811</td>\n",
       "      <td>1.437436</td>\n",
       "      <td>2.098691</td>\n",
       "      <td>-1.115247</td>\n",
       "      <td>-0.186085</td>\n",
       "      <td>-2.736078</td>\n",
       "      <td>-1.221942</td>\n",
       "      <td>0.053159</td>\n",
       "      <td>0.962036</td>\n",
       "      <td>1.010372</td>\n",
       "      <td>-1.433825</td>\n",
       "      <td>1.341026</td>\n",
       "      <td>-0.529049</td>\n",
       "      <td>0.249424</td>\n",
       "      <td>-2.045713</td>\n",
       "      <td>-1.149785</td>\n",
       "      <td>-0.267201</td>\n",
       "      <td>-0.041390</td>\n",
       "      <td>-0.078238</td>\n",
       "      <td>1.099423</td>\n",
       "      <td>-1.646536</td>\n",
       "      <td>0.688197</td>\n",
       "      <td>-0.836711</td>\n",
       "      <td>-1.127869</td>\n",
       "      <td>-0.318325</td>\n",
       "      <td>-1.037568</td>\n",
       "      <td>-2.117240</td>\n",
       "      <td>1.614409</td>\n",
       "      <td>-0.893201</td>\n",
       "      <td>-1.714206</td>\n",
       "      <td>-0.095804</td>\n",
       "      <td>...</td>\n",
       "      <td>1.002202</td>\n",
       "      <td>0.511959</td>\n",
       "      <td>-1.090742</td>\n",
       "      <td>-0.210388</td>\n",
       "      <td>0.201614</td>\n",
       "      <td>2.021174</td>\n",
       "      <td>0.431002</td>\n",
       "      <td>2.055828</td>\n",
       "      <td>-0.245411</td>\n",
       "      <td>1.643093</td>\n",
       "      <td>-0.601315</td>\n",
       "      <td>-1.553508</td>\n",
       "      <td>0.539282</td>\n",
       "      <td>-0.738123</td>\n",
       "      <td>-0.621267</td>\n",
       "      <td>1.018830</td>\n",
       "      <td>1.023390</td>\n",
       "      <td>-0.202876</td>\n",
       "      <td>-1.310314</td>\n",
       "      <td>-0.015272</td>\n",
       "      <td>-0.809676</td>\n",
       "      <td>-0.045430</td>\n",
       "      <td>-0.618891</td>\n",
       "      <td>0.949976</td>\n",
       "      <td>-0.573592</td>\n",
       "      <td>-0.537078</td>\n",
       "      <td>-0.097307</td>\n",
       "      <td>1.950005</td>\n",
       "      <td>2.108545</td>\n",
       "      <td>0.651515</td>\n",
       "      <td>-0.655175</td>\n",
       "      <td>-1.615230</td>\n",
       "      <td>-0.370074</td>\n",
       "      <td>-0.776830</td>\n",
       "      <td>1.810327</td>\n",
       "      <td>1.409194</td>\n",
       "      <td>-0.034173</td>\n",
       "      <td>0.568665</td>\n",
       "      <td>1.293576</td>\n",
       "      <td>ENTERTAINMENT</td>\n",
       "    </tr>\n",
       "    <tr>\n",
       "      <th>3</th>\n",
       "      <td>1.234624</td>\n",
       "      <td>-0.374253</td>\n",
       "      <td>-1.163900</td>\n",
       "      <td>0.175534</td>\n",
       "      <td>0.509071</td>\n",
       "      <td>2.236867</td>\n",
       "      <td>2.268734</td>\n",
       "      <td>0.042993</td>\n",
       "      <td>2.045069</td>\n",
       "      <td>1.152872</td>\n",
       "      <td>1.175385</td>\n",
       "      <td>-0.319540</td>\n",
       "      <td>1.358696</td>\n",
       "      <td>-0.479121</td>\n",
       "      <td>0.719989</td>\n",
       "      <td>-0.638196</td>\n",
       "      <td>-1.138774</td>\n",
       "      <td>-0.826142</td>\n",
       "      <td>-0.505619</td>\n",
       "      <td>-1.886323</td>\n",
       "      <td>2.088624</td>\n",
       "      <td>-0.455953</td>\n",
       "      <td>0.038795</td>\n",
       "      <td>-1.584551</td>\n",
       "      <td>-0.512796</td>\n",
       "      <td>-1.295683</td>\n",
       "      <td>0.073874</td>\n",
       "      <td>-2.161477</td>\n",
       "      <td>0.390557</td>\n",
       "      <td>-0.011208</td>\n",
       "      <td>0.789470</td>\n",
       "      <td>1.130061</td>\n",
       "      <td>-1.032327</td>\n",
       "      <td>0.774984</td>\n",
       "      <td>-0.729001</td>\n",
       "      <td>-2.037723</td>\n",
       "      <td>2.303461</td>\n",
       "      <td>-0.219036</td>\n",
       "      <td>-2.037813</td>\n",
       "      <td>-0.697561</td>\n",
       "      <td>...</td>\n",
       "      <td>0.890302</td>\n",
       "      <td>-0.476242</td>\n",
       "      <td>-0.006005</td>\n",
       "      <td>0.455705</td>\n",
       "      <td>-0.881315</td>\n",
       "      <td>-0.702899</td>\n",
       "      <td>1.342829</td>\n",
       "      <td>-0.679261</td>\n",
       "      <td>0.434314</td>\n",
       "      <td>0.485334</td>\n",
       "      <td>-0.532833</td>\n",
       "      <td>0.239399</td>\n",
       "      <td>1.570176</td>\n",
       "      <td>-1.711462</td>\n",
       "      <td>-0.666128</td>\n",
       "      <td>0.277183</td>\n",
       "      <td>-1.270758</td>\n",
       "      <td>-0.751820</td>\n",
       "      <td>-0.922715</td>\n",
       "      <td>1.572525</td>\n",
       "      <td>-0.641867</td>\n",
       "      <td>-0.299904</td>\n",
       "      <td>-0.545764</td>\n",
       "      <td>1.470248</td>\n",
       "      <td>-0.456829</td>\n",
       "      <td>-0.386734</td>\n",
       "      <td>1.050338</td>\n",
       "      <td>0.861844</td>\n",
       "      <td>-1.077094</td>\n",
       "      <td>0.513306</td>\n",
       "      <td>0.479860</td>\n",
       "      <td>-0.039636</td>\n",
       "      <td>0.669834</td>\n",
       "      <td>-0.248279</td>\n",
       "      <td>-0.729930</td>\n",
       "      <td>0.311826</td>\n",
       "      <td>-0.576441</td>\n",
       "      <td>1.649982</td>\n",
       "      <td>0.713631</td>\n",
       "      <td>ENTERTAINMENT</td>\n",
       "    </tr>\n",
       "    <tr>\n",
       "      <th>4</th>\n",
       "      <td>1.944394</td>\n",
       "      <td>-0.787141</td>\n",
       "      <td>-1.233187</td>\n",
       "      <td>0.388701</td>\n",
       "      <td>1.127845</td>\n",
       "      <td>3.282583</td>\n",
       "      <td>1.301213</td>\n",
       "      <td>0.998176</td>\n",
       "      <td>2.963668</td>\n",
       "      <td>2.896556</td>\n",
       "      <td>2.484595</td>\n",
       "      <td>-1.212965</td>\n",
       "      <td>0.741951</td>\n",
       "      <td>-0.403252</td>\n",
       "      <td>-1.220446</td>\n",
       "      <td>-0.600047</td>\n",
       "      <td>0.368974</td>\n",
       "      <td>0.006047</td>\n",
       "      <td>-0.636181</td>\n",
       "      <td>-1.063867</td>\n",
       "      <td>0.544793</td>\n",
       "      <td>0.111374</td>\n",
       "      <td>1.188163</td>\n",
       "      <td>-1.373455</td>\n",
       "      <td>-0.948998</td>\n",
       "      <td>-1.532819</td>\n",
       "      <td>1.328606</td>\n",
       "      <td>-1.284049</td>\n",
       "      <td>-0.204037</td>\n",
       "      <td>-1.288783</td>\n",
       "      <td>0.788964</td>\n",
       "      <td>-0.136086</td>\n",
       "      <td>-0.184967</td>\n",
       "      <td>-0.712526</td>\n",
       "      <td>0.214116</td>\n",
       "      <td>-2.174511</td>\n",
       "      <td>2.298115</td>\n",
       "      <td>-1.281193</td>\n",
       "      <td>-2.248376</td>\n",
       "      <td>-1.268202</td>\n",
       "      <td>...</td>\n",
       "      <td>2.977538</td>\n",
       "      <td>0.418242</td>\n",
       "      <td>-0.882733</td>\n",
       "      <td>0.843055</td>\n",
       "      <td>-1.743722</td>\n",
       "      <td>-0.262917</td>\n",
       "      <td>1.120675</td>\n",
       "      <td>0.302765</td>\n",
       "      <td>-0.277236</td>\n",
       "      <td>0.158953</td>\n",
       "      <td>-0.741240</td>\n",
       "      <td>0.037791</td>\n",
       "      <td>1.117146</td>\n",
       "      <td>-1.920827</td>\n",
       "      <td>0.434980</td>\n",
       "      <td>0.182599</td>\n",
       "      <td>-0.990018</td>\n",
       "      <td>-0.390326</td>\n",
       "      <td>-0.784852</td>\n",
       "      <td>0.526335</td>\n",
       "      <td>-0.471720</td>\n",
       "      <td>-0.733014</td>\n",
       "      <td>0.438288</td>\n",
       "      <td>2.319479</td>\n",
       "      <td>-1.238159</td>\n",
       "      <td>-0.678485</td>\n",
       "      <td>0.323808</td>\n",
       "      <td>0.747791</td>\n",
       "      <td>1.372770</td>\n",
       "      <td>-0.623400</td>\n",
       "      <td>-0.555378</td>\n",
       "      <td>0.172929</td>\n",
       "      <td>1.158386</td>\n",
       "      <td>-0.810946</td>\n",
       "      <td>-0.977625</td>\n",
       "      <td>-0.624046</td>\n",
       "      <td>-0.130855</td>\n",
       "      <td>1.742555</td>\n",
       "      <td>0.300411</td>\n",
       "      <td>ENTERTAINMENT</td>\n",
       "    </tr>\n",
       "  </tbody>\n",
       "</table>\n",
       "<p>5 rows × 97 columns</p>\n",
       "</div>"
      ],
      "text/plain": [
       "          0         1         2  ...        94        95  category_label\n",
       "0  1.140857 -2.609909 -2.195710  ...  1.749161  1.611914         GENERAL\n",
       "1  1.259468 -0.776940 -0.579592  ...  1.919709  0.605550   ENTERTAINMENT\n",
       "2  0.176791 -1.853577  0.069344  ...  0.568665  1.293576   ENTERTAINMENT\n",
       "3  1.234624 -0.374253 -1.163900  ...  1.649982  0.713631   ENTERTAINMENT\n",
       "4  1.944394 -0.787141 -1.233187  ...  1.742555  0.300411   ENTERTAINMENT\n",
       "\n",
       "[5 rows x 97 columns]"
      ]
     },
     "execution_count": 49,
     "metadata": {
      "tags": []
     },
     "output_type": "execute_result"
    }
   ],
   "source": [
    "embedding_to_cols.head()"
   ]
  },
  {
   "cell_type": "code",
   "execution_count": null,
   "metadata": {
    "colab": {
     "base_uri": "https://localhost:8080/",
     "height": 34
    },
    "colab_type": "code",
    "id": "UHsc3Nx4hfRV",
    "outputId": "77a0c355-0695-48f3-fa4a-38c5a36672d5"
   },
   "outputs": [
    {
     "data": {
      "text/plain": [
       "96"
      ]
     },
     "execution_count": 50,
     "metadata": {
      "tags": []
     },
     "output_type": "execute_result"
    }
   ],
   "source": [
    "# Sometimes there are nulls introduce while the embedding is formed.\n",
    "embedding_to_cols.isnull().sum().sum()"
   ]
  },
  {
   "cell_type": "markdown",
   "metadata": {},
   "source": [
    "### Since there are only 96 nulls, lets drop them."
   ]
  },
  {
   "cell_type": "code",
   "execution_count": null,
   "metadata": {
    "colab": {},
    "colab_type": "code",
    "id": "TurD_mZWhkrn"
   },
   "outputs": [],
   "source": [
    "embedding_to_cols_no_nulls = embedding_to_cols.dropna()"
   ]
  },
  {
   "cell_type": "code",
   "execution_count": null,
   "metadata": {
    "colab": {
     "base_uri": "https://localhost:8080/",
     "height": 34
    },
    "colab_type": "code",
    "id": "in5fP4hUhq6u",
    "outputId": "d0299677-4b94-4c42-8d86-59aaef5f9585"
   },
   "outputs": [
    {
     "data": {
      "text/plain": [
       "0"
      ]
     },
     "execution_count": 52,
     "metadata": {
      "tags": []
     },
     "output_type": "execute_result"
    }
   ],
   "source": [
    "embedding_to_cols_no_nulls.isnull().sum().sum()"
   ]
  },
  {
   "cell_type": "code",
   "execution_count": null,
   "metadata": {
    "colab": {},
    "colab_type": "code",
    "id": "iJjUP63-hxG4"
   },
   "outputs": [],
   "source": [
    "# creating df of features or vectors\n",
    "X_embeddings = embedding_to_cols_no_nulls.drop('category_label', axis='columns')\n",
    "y_labels = embedding_to_cols_no_nulls.category_label"
   ]
  },
  {
   "cell_type": "code",
   "execution_count": null,
   "metadata": {
    "colab": {},
    "colab_type": "code",
    "id": "aCk1db7gHqrE"
   },
   "outputs": [],
   "source": [
    "X_train, X_test, y_train, y_test = split_train_test(\n",
    "    X=X_embeddings,\n",
    "    y=y_labels,\n",
    "    random_state=6059,\n",
    "    stratify=y_labels,\n",
    "    test_size=0.15\n",
    ")"
   ]
  },
  {
   "cell_type": "code",
   "execution_count": null,
   "metadata": {
    "colab": {},
    "colab_type": "code",
    "id": "cHihX3aIj-4X"
   },
   "outputs": [],
   "source": [
    "# logistic regression is very sensitive to multicolinearity of features. Lets decrease it\n",
    "pca = PCA(n_components=96)\n",
    "pca.fit(X_train)\n",
    "transformed_vectors_X_train = pca.transform(X_train)\n",
    "transformed_vectors_X_test = pca.transform(X_test)"
   ]
  },
  {
   "cell_type": "code",
   "execution_count": null,
   "metadata": {
    "colab": {
     "base_uri": "https://localhost:8080/",
     "height": 34
    },
    "colab_type": "code",
    "id": "qykd85ZmpJbN",
    "outputId": "e40848b3-5522-4c35-dff9-2daaddd7f395"
   },
   "outputs": [
    {
     "data": {
      "text/plain": [
       "96"
      ]
     },
     "execution_count": 66,
     "metadata": {
      "tags": []
     },
     "output_type": "execute_result"
    }
   ],
   "source": [
    "len(transformed_vectors_X_test[0])"
   ]
  },
  {
   "cell_type": "code",
   "execution_count": null,
   "metadata": {
    "colab": {
     "base_uri": "https://localhost:8080/",
     "height": 454
    },
    "colab_type": "code",
    "id": "227_qbL2fW2f",
    "outputId": "0712f781-f354-4d0e-a739-b82bfff28929"
   },
   "outputs": [
    {
     "data": {
      "text/plain": [
       "array([-7.79511355e-01, -7.87447209e-01,  3.28297479e-02,  1.34002809e+00,\n",
       "        1.56211057e+00, -9.43838885e-01,  2.80028164e-01, -8.46284946e-01,\n",
       "        2.31350224e+00,  1.56986313e-01,  1.76920543e+00,  9.75767058e-01,\n",
       "       -1.24124898e-01, -6.83227707e-01,  1.03545275e+00,  2.99754355e-01,\n",
       "       -1.50452192e-03, -1.71663682e+00,  6.45822988e-01,  3.44911007e-01,\n",
       "       -3.79504448e-01, -2.57413864e-01,  6.08082327e-01, -2.55473127e-01,\n",
       "        7.58028591e-02, -5.62711405e-01,  5.77112672e-01, -5.83595652e-01,\n",
       "       -8.04613853e-03,  6.40001560e-01, -9.07875678e-03,  2.57361711e-01,\n",
       "       -2.72440103e-02, -6.47989612e-02, -3.78886026e-01,  3.03175414e-01,\n",
       "       -3.87344863e-01, -8.67367011e-01, -2.64885320e-01,  1.37132969e-01,\n",
       "       -2.08524292e-01,  1.32668875e-01, -8.26607588e-02, -2.12040787e-01,\n",
       "       -1.79126979e-01, -8.79785372e-03, -2.36947294e-01, -3.86503222e-02,\n",
       "       -7.05461811e-01,  2.69967254e-01, -6.14127443e-01,  6.00556094e-02,\n",
       "       -1.64006973e-01,  1.86390582e-01, -2.36750991e-01,  2.26969470e-01,\n",
       "       -1.63813985e-01, -2.00138629e-01,  4.62270307e-01, -2.94859626e-01,\n",
       "       -7.50755580e-02,  5.35592647e-01, -1.45145191e-01, -1.83270925e-01,\n",
       "       -1.30982465e-01,  1.78043562e-02,  7.46340686e-02, -3.32342547e-01,\n",
       "       -3.05038593e-01,  1.67860775e-01, -3.45214295e-01,  2.91429360e-01,\n",
       "       -6.21383282e-03, -6.29183672e-01,  7.16317906e-02, -2.68408044e-01,\n",
       "        2.04533983e-01,  3.57723506e-01, -3.40420038e-01, -2.03168325e-01,\n",
       "        1.94592883e-01, -3.72854414e-01, -1.69674461e-03,  6.66308325e-02,\n",
       "        1.71307582e-01, -1.01296081e-01, -7.03864573e-01,  1.16763486e-02,\n",
       "       -1.20396856e-01,  1.60731235e-01, -7.03321107e-02,  1.39991977e-01,\n",
       "        6.15481366e-02,  2.61772428e-01, -1.98053071e-01,  1.59447608e-02])"
      ]
     },
     "execution_count": 67,
     "metadata": {
      "tags": []
     },
     "output_type": "execute_result"
    }
   ],
   "source": [
    "transformed_vectors_X_test[0]"
   ]
  },
  {
   "cell_type": "markdown",
   "metadata": {},
   "source": [
    "### In this case I am only going to try Logistic regression and Random forest. Naive Bayes doesn't work with negative values and some of the vector values are negative. An alternative to this would be to square the vectors. Something that can be done in a second iteration.\n",
    "### As before, I'll pay close attention to f1 score."
   ]
  },
  {
   "cell_type": "code",
   "execution_count": null,
   "metadata": {
    "colab": {
     "base_uri": "https://localhost:8080/",
     "height": 146
    },
    "colab_type": "code",
    "id": "Y0841s9mtwb-",
    "outputId": "c317cf49-613b-4eea-a9ba-ee4cd0e14c61"
   },
   "outputs": [
    {
     "name": "stdout",
     "output_type": "stream",
     "text": [
      "LR, ensemble, precision weighted:  0.9558118854877052\n",
      "LR, ensemble, recall weighted:  0.34616661135081317\n",
      "LR, ensemble, f1 score weighted:  0.505531816673204\n",
      "Best model parameters: {'C': 1, 'l1_ratio': 0, 'penalty': 'elasticnet'}\n"
     ]
    },
    {
     "name": "stderr",
     "output_type": "stream",
     "text": [
      "/usr/local/lib/python3.6/dist-packages/sklearn/metrics/_classification.py:1272: UndefinedMetricWarning: Recall is ill-defined and being set to 0.0 in labels with no true samples. Use `zero_division` parameter to control this behavior.\n",
      "  _warn_prf(average, modifier, msg_start, len(result))\n"
     ]
    }
   ],
   "source": [
    "prec_weighted, recall_weighted, f1_weighted, best_params = train_model(\n",
    "    linear_model.LogisticRegression(solver='saga',  max_iter=1000),\n",
    "    transformed_vectors_X_train,\n",
    "    y_train,\n",
    "    transformed_vectors_X_test,\n",
    "    y_test,\n",
    "    dict(C=[0.1, 1], penalty=['elasticnet'], l1_ratio=[0, 0.5])\n",
    ")\n",
    "\n",
    "print(\"LR, ensemble, precision weighted: \", prec_weighted)\n",
    "print(\"LR, ensemble, recall weighted: \", recall_weighted)\n",
    "print(\"LR, ensemble, f1 score weighted: \", f1_weighted)\n",
    "print(\"Best model parameters:\", best_params)"
   ]
  },
  {
   "cell_type": "code",
   "execution_count": null,
   "metadata": {
    "colab": {
     "base_uri": "https://localhost:8080/",
     "height": 183
    },
    "colab_type": "code",
    "id": "td3JQtdurq5h",
    "outputId": "ffe80a2e-7e8a-49ed-883c-0f14e264e406"
   },
   "outputs": [
    {
     "name": "stderr",
     "output_type": "stream",
     "text": [
      "/usr/local/lib/python3.6/dist-packages/joblib/externals/loky/process_executor.py:691: UserWarning: A worker stopped while some jobs were given to the executor. This can be caused by a too short worker timeout or by a memory leak.\n",
      "  \"timeout or by a memory leak.\", UserWarning\n"
     ]
    },
    {
     "name": "stdout",
     "output_type": "stream",
     "text": [
      "RandomForest, bigram word level vectors, precision weighted:  0.8165903819385053\n",
      "RandomForest, bigram word level vectors, recall weighted:  0.33388649186856956\n",
      "RandomForest, bigram word level vectors, f1 score weighted:  0.4640174473814614\n",
      "Best model parameters: {'min_samples_split': 3, 'n_estimators': 100}\n"
     ]
    },
    {
     "name": "stderr",
     "output_type": "stream",
     "text": [
      "/usr/local/lib/python3.6/dist-packages/sklearn/metrics/_classification.py:1272: UndefinedMetricWarning: Recall is ill-defined and being set to 0.0 in labels with no true samples. Use `zero_division` parameter to control this behavior.\n",
      "  _warn_prf(average, modifier, msg_start, len(result))\n"
     ]
    }
   ],
   "source": [
    "prec_weighted, recall_weighted, f1_weighted, best_params = train_model(\n",
    "    ensemble.RandomForestClassifier(),\n",
    "    transformed_vectors_X_train,\n",
    "    y_train,\n",
    "    transformed_vectors_X_test,\n",
    "    y_test,\n",
    "    dict(min_samples_split = [3, 5], n_estimators = [100, 1000])\n",
    ")\n",
    "\n",
    "print(\"RandomForest, bigram word level vectors, precision weighted: \", prec_weighted)\n",
    "print(\"RandomForest, bigram word level vectors, recall weighted: \", recall_weighted)\n",
    "print(\"RandomForest, bigram word level vectors, f1 score weighted: \", f1_weighted)\n",
    "print(\"Best model parameters:\", best_params)"
   ]
  },
  {
   "cell_type": "markdown",
   "metadata": {},
   "source": [
    "### Interestng. As before logistic regression outperforms by a bit random forest as measure by the f1 score.\n",
    "### It is worth mentioning that precision is quite high, whereare recall is very low. This indicates that there is a large number of false negative and point to a potential mistake in reconsolidating the labels."
   ]
  },
  {
   "cell_type": "markdown",
   "metadata": {},
   "source": [
    "## Next steps:\n",
    "### Get more compute power and train models using whole dataset\n",
    "### Reconsolidate labels using a similarity metric like cosine similarity. It is very likely that my guesses are wrong.\n",
    "### Create embeddings using more complex model embeddings. I'd specifically be interested on using Bert, since it performs quite well for text classification.\n",
    "### Use a more complex classification models such as neural networks. This will be great to account for not linear interactions of the features."
   ]
  }
 ],
 "metadata": {
  "colab": {
   "name": "categories_newspaper.ipynb",
   "provenance": []
  },
  "kernelspec": {
   "display_name": "Python 3",
   "language": "python",
   "name": "python3"
  },
  "language_info": {
   "codemirror_mode": {
    "name": "ipython",
    "version": 3
   },
   "file_extension": ".py",
   "mimetype": "text/x-python",
   "name": "python",
   "nbconvert_exporter": "python",
   "pygments_lexer": "ipython3",
   "version": "3.7.1"
  }
 },
 "nbformat": 4,
 "nbformat_minor": 4
}
